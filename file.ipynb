import pandas as pd
import numpy as np
import math


batch1 = pd.read_csv("/Users/cjz/Downloads/HC AI intern (Trevor)/ACTUAL/Task3/input_csv/Batch1_Extraction_IssueCategorization - Batch1_Ground_Truth.csv")
batch2 = pd.read_csv("/Users/cjz/Downloads/HC AI intern (Trevor)/ACTUAL/Task3/input_csv/Batch2_Extraction_IssueCategorization - Batch2_GT.csv")

batch1 = batch1.rename(columns={batch1.columns[i]: batch1.columns[i].lower() for i in range(len(batch1.columns))})
batch2 = batch2.rename(columns={batch2.columns[i]: batch2.columns[i].lower() for i in range(len(batch2.columns))})

batch1.head()
